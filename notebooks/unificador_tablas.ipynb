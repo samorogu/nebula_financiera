{
  "nbformat": 4,
  "nbformat_minor": 0,
  "metadata": {
    "colab": {
      "name": "unificador_estado_resultados.ipynb",
      "provenance": [],
      "collapsed_sections": []
    },
    "kernelspec": {
      "name": "python3",
      "display_name": "Python 3"
    },
    "language_info": {
      "name": "python"
    }
  },
  "cells": [
    {
      "cell_type": "code",
      "metadata": {
        "id": "ipqnrVnKx3Wq",
        "colab": {
          "base_uri": "https://localhost:8080/"
        },
        "outputId": "228b4d36-e2c2-4212-d144-3a7ee4d874e3"
      },
      "source": [
        "!pip install -qq boto3\n",
        "!pip install -qq unidecode"
      ],
      "execution_count": null,
      "outputs": [
        {
          "output_type": "stream",
          "name": "stdout",
          "text": [
            "\u001b[K     |████████████████████████████████| 131 kB 5.1 MB/s \n",
            "\u001b[K     |████████████████████████████████| 8.0 MB 23.9 MB/s \n",
            "\u001b[K     |████████████████████████████████| 79 kB 5.1 MB/s \n",
            "\u001b[K     |████████████████████████████████| 138 kB 34.9 MB/s \n",
            "\u001b[31mERROR: pip's dependency resolver does not currently take into account all the packages that are installed. This behaviour is the source of the following dependency conflicts.\n",
            "requests 2.23.0 requires urllib3!=1.25.0,!=1.25.1,<1.26,>=1.21.1, but you have urllib3 1.26.7 which is incompatible.\n",
            "datascience 0.10.6 requires folium==0.2.1, but you have folium 0.8.3 which is incompatible.\u001b[0m\n",
            "\u001b[K     |████████████████████████████████| 235 kB 5.1 MB/s \n",
            "\u001b[?25h"
          ]
        }
      ]
    },
    {
      "cell_type": "code",
      "metadata": {
        "colab": {
          "base_uri": "https://localhost:8080/"
        },
        "id": "qo_pf54XiS7U",
        "outputId": "dc6956da-9a4c-4dfd-9c35-d991d6c38179"
      },
      "source": [
        "import string\n",
        "import unidecode\n",
        "import os\n",
        "import boto3 \n",
        "from google.colab import drive\n",
        "import pandas as pd\n",
        "drive.mount('/content/drive')\n",
        "access_key = 'aws key'\n",
        "secret_key =  'aws key'\n",
        "bucket_name = 'aws key'"
      ],
      "execution_count": null,
      "outputs": [
        {
          "output_type": "stream",
          "name": "stdout",
          "text": [
            "Mounted at /content/drive\n"
          ]
        }
      ]
    },
    {
      "cell_type": "code",
      "metadata": {
        "id": "ZjFxr-qlh81x"
      },
      "source": [
        "def str_lower_rm_punctuation_rm_accents(text):\n",
        "    \"\"\"\n",
        "    \"\"\"\n",
        "\n",
        "    if len(text) == 0:\n",
        "        return ''\n",
        "\n",
        "    # Puctuations to remove\n",
        "    table = str.maketrans({\n",
        "        key: None\n",
        "        for key in string.punctuation\n",
        "    })\n",
        "\n",
        "    # Make sure to have a string\n",
        "    text_cleant = str(text)\n",
        "\n",
        "    # Remove Symbols\n",
        "    text_cleant = text_cleant.translate(table)\n",
        "\n",
        "    # Remove accents\n",
        "    text_cleant = unidecode.unidecode(text_cleant)\n",
        "\n",
        "    # Lower\n",
        "    text_cleant = text_cleant.lower()\n",
        "\n",
        "    return str(text_cleant)\n"
      ],
      "execution_count": null,
      "outputs": []
    },
    {
      "cell_type": "code",
      "metadata": {
        "id": "eDo24nEXhtyx"
      },
      "source": [
        "path  = \"/content/drive/MyDrive/hackatonBBVA2021/csv/\"\n",
        "path_santander  = path+\"Santander/\"\n",
        "path_banorte  = path+\"Banorte/\"\n",
        "path_bbva  = path+\"BBVA/\"\n",
        "file_banorte = \"estado_de_resultados_banorte.csv\"\n",
        "file_bbva = \"result_state.csv\"\n",
        "file_santander = \"estado_de_resultados_santander.csv\""
      ],
      "execution_count": null,
      "outputs": []
    },
    {
      "cell_type": "code",
      "metadata": {
        "id": "zmNDXnXjsKXg"
      },
      "source": [
        "dic_santander = {\"Utilidad neta mayoritaria\": \"Resultado neto\"}\n",
        "dic_banorte = {\"Ingresos de Intereses Netos antes de Estim .\": \"Margen Financiero\",\n",
        "               \"Ingresos de Intereses Netos Ajustado por\": \"Margen financiero ajustado por riesgos crediticios\",\n",
        "               \"Provisiones Prev. para Riesgos crediticios\": \"Estimación preventiva para riesgos crediticios\",\n",
        "               \"Resultados Antes de Im puestos a la Utilidad\":\"Resultado antes de impuestos a la utilidad\",\n",
        "               \"Resultados antes de operaciones\":\"Resultado antes de operaciones discontinuadas\",\n",
        "               \"Com isiones por Servicios Cobrados\": \"Comisiones y tarifas cobradas\",\n",
        "               \"Com isiones por Servicios Pagados\": \"Comisiones y tarifas pagados\",\n",
        "               \"Ingresos por Interm ediación\":\"Resultado por intermediación\",\n",
        "               \"Total Otros Ingresos (Egresos) de la\":\"Otros ingresos (egresos) de la operación\",\n",
        "               \"Total Gasto No Financiero\":\"Gastos de administración y promoción\",\n",
        "               \"Participación de los Trabajadores en las Utilidades\":\"Participación en el resultado de subsidiarias y asociadas\",\n",
        "               \"Utilidad Neta\" : \"Resultado neto\"\n",
        "               }\n",
        "\n",
        "result_state_important_variables = [\"resultado neto\",\"margen financiero\",\"margen financiero ajustado por riesgos crediticios\",\n",
        "                                    \"resultado de la operacion\",\"resultado antes de impuestos a la utilidad\",\n",
        "                                    \"resultado antes de operaciones discontinuadas\",\"resultado neto\"]"
      ],
      "execution_count": null,
      "outputs": []
    },
    {
      "cell_type": "code",
      "metadata": {
        "id": "kf7QATPhiiB1"
      },
      "source": [
        "# reading files\n",
        "santander_df = pd.read_csv(path_santander+file_santander)\n",
        "bbva_df = pd.read_csv(path_bbva+file_bbva)\n",
        "bbva_df = bbva_df.iloc[: , 1:]\n",
        "bbva_df.columns=[\"trimester_date\",\"bank_name\",\"table_name\",\"short_description\",\n",
        "                                   \"T_0_feature_value\",\"T_1_feature_value\",\"T_2_feature_value\",\"T_3_feature_value\",\"T_4_feature_value\"]\n",
        "banorte_df = pd.read_csv(path_banorte+file_banorte)\n",
        "banorte_df.columns=[\"trimester_date\",\"bank_name\",\"table_name\",\"short_description\",\n",
        "                                   \"T_0_feature_value\",\"T_1_feature_value\",\"T_2_feature_value\",\"T_3_feature_value\",\"T_4_feature_value\"]\n",
        "#deleting unnecesary files of bbva\n",
        "bbva_df = bbva_df.loc[(bbva_df[\"short_description\"]!=\"Estado de Resultados Consolidado\") &\n",
        "                      (bbva_df[\"short_description\"]!=\"Millones de pesos\")]\n",
        "\n",
        "#renaming and creating one more file in santander\n",
        "banorte_df = banorte_df.replace({\"short_description\": dic_banorte})\n",
        "santander_df = santander_df.replace({\"short_description\": dic_santander})\n",
        "aux = santander_df.loc[santander_df[\"short_description\"]==\"Resultado neto\"].reset_index(drop = True)\n",
        "aux[\"short_description\"] = \"Resultado antes de operaciones discontinuadas\"\n",
        "santander_df =pd.concat([santander_df,aux])\n",
        "\n",
        "#deleting unnesary parenthesis\n",
        "columnas = banorte_df.columns\n",
        "for columna in columnas:\n",
        "      banorte_df[columna] = banorte_df[columna].str.replace(\"(\",\"-\") \n",
        "      banorte_df[columna] = banorte_df[columna].str.replace(\")\",\"\")\n",
        "      banorte_df[columna] = banorte_df[columna].str.replace(\",\",\"\")\n",
        "      bbva_df[columna] = bbva_df[columna].str.replace(\"(\",\"-\") \n",
        "      bbva_df[columna] = bbva_df[columna].str.replace(\")\",\"\")\n",
        "      bbva_df[columna] = bbva_df[columna].str.replace(\",\",\"\")\n",
        "\n",
        "#concat\n",
        "santander_df[\"table_name\"] = \"Estado de resultados\"\n",
        "result_state = pd.concat([bbva_df,banorte_df,santander_df])\n",
        "\n",
        "#to float\n",
        "result_state[\"T_0_feature_value\"] = result_state[\"T_0_feature_value\"].astype(float)\n",
        "result_state[\"T_1_feature_value\"] = result_state[\"T_1_feature_value\"].astype(float)\n",
        "result_state[\"T_2_feature_value\"] = result_state[\"T_2_feature_value\"].astype(float)\n",
        "result_state[\"T_3_feature_value\"] = result_state[\"T_3_feature_value\"].astype(float)\n",
        "result_state[\"T_4_feature_value\"] = result_state[\"T_4_feature_value\"].astype(float)\n",
        "\n",
        "#new vars \n",
        "result_state[\"T_5_feature_value\"] = 0\n",
        "result_state[\"T_6_feature_value\"] = 0\n",
        "\n",
        "# cleaning short descrption\n",
        "result_state[\"short_description\"] = result_state[\"short_description\"].apply(lambda x: str_lower_rm_punctuation_rm_accents(str(x)))"
      ],
      "execution_count": null,
      "outputs": []
    },
    {
      "cell_type": "code",
      "metadata": {
        "colab": {
          "base_uri": "https://localhost:8080/",
          "height": 213
        },
        "id": "fE-FhLfiLznJ",
        "outputId": "057554d8-0f6c-40d8-9789-3a05efb95f79"
      },
      "source": [
        "result_state.loc[result_state[\"short_description\"]==result_state_important_variables[1]]"
      ],
      "execution_count": null,
      "outputs": [
        {
          "output_type": "execute_result",
          "data": {
            "text/html": [
              "<div>\n",
              "<style scoped>\n",
              "    .dataframe tbody tr th:only-of-type {\n",
              "        vertical-align: middle;\n",
              "    }\n",
              "\n",
              "    .dataframe tbody tr th {\n",
              "        vertical-align: top;\n",
              "    }\n",
              "\n",
              "    .dataframe thead th {\n",
              "        text-align: right;\n",
              "    }\n",
              "</style>\n",
              "<table border=\"1\" class=\"dataframe\">\n",
              "  <thead>\n",
              "    <tr style=\"text-align: right;\">\n",
              "      <th></th>\n",
              "      <th>trimester_date</th>\n",
              "      <th>bank_name</th>\n",
              "      <th>table_name</th>\n",
              "      <th>short_description</th>\n",
              "      <th>T_0_feature_value</th>\n",
              "      <th>T_1_feature_value</th>\n",
              "      <th>T_2_feature_value</th>\n",
              "      <th>T_3_feature_value</th>\n",
              "      <th>T_4_feature_value</th>\n",
              "      <th>T_5_feature_value</th>\n",
              "      <th>T_6_feature_value</th>\n",
              "    </tr>\n",
              "  </thead>\n",
              "  <tbody>\n",
              "    <tr>\n",
              "      <th>7</th>\n",
              "      <td>2021T2</td>\n",
              "      <td>BBVA</td>\n",
              "      <td>Estado de resultados</td>\n",
              "      <td>margen financiero</td>\n",
              "      <td>34409.0</td>\n",
              "      <td>34759.0</td>\n",
              "      <td>35914.0</td>\n",
              "      <td>34045.0</td>\n",
              "      <td>29089.0</td>\n",
              "      <td>0</td>\n",
              "      <td>0</td>\n",
              "    </tr>\n",
              "    <tr>\n",
              "      <th>8</th>\n",
              "      <td>2021T2</td>\n",
              "      <td>Banorte</td>\n",
              "      <td>Estado de resultados</td>\n",
              "      <td>margen financiero</td>\n",
              "      <td>19649.0</td>\n",
              "      <td>20002.0</td>\n",
              "      <td>19580.0</td>\n",
              "      <td>20601.0</td>\n",
              "      <td>20683.0</td>\n",
              "      <td>0</td>\n",
              "      <td>0</td>\n",
              "    </tr>\n",
              "    <tr>\n",
              "      <th>0</th>\n",
              "      <td>2021T2</td>\n",
              "      <td>Santander</td>\n",
              "      <td>Estado de resultados</td>\n",
              "      <td>margen financiero</td>\n",
              "      <td>15585.0</td>\n",
              "      <td>16272.0</td>\n",
              "      <td>16896.0</td>\n",
              "      <td>15585.0</td>\n",
              "      <td>16896.0</td>\n",
              "      <td>0</td>\n",
              "      <td>0</td>\n",
              "    </tr>\n",
              "  </tbody>\n",
              "</table>\n",
              "</div>"
            ],
            "text/plain": [
              "  trimester_date  bank_name  ... T_5_feature_value T_6_feature_value\n",
              "7         2021T2       BBVA  ...                 0                 0\n",
              "8         2021T2    Banorte  ...                 0                 0\n",
              "0         2021T2  Santander  ...                 0                 0\n",
              "\n",
              "[3 rows x 11 columns]"
            ]
          },
          "metadata": {},
          "execution_count": 7
        }
      ]
    },
    {
      "cell_type": "code",
      "metadata": {
        "id": "gTUplAWJgNid"
      },
      "source": [
        "path  = \"/content/drive/MyDrive/hackatonBBVA2021/csv/\"\n",
        "path_santander  = path+\"Santander/\"\n",
        "path_banorte  = path+\"Banorte/\"\n",
        "path_bbva  = path+\"BBVA/\"\n",
        "file_banorte = \"balancegral_pasivos_banorte.csv\"\n",
        "file_bbva = \"BBVA_21T2_pasivo.csv\"\n",
        "#file_bbva = \"BBVA_21T2_activo.csv\"\n",
        "file_santander = \"balance_general_pasivo_santander.csv\"\n",
        "# reading files\n",
        "santander_df = pd.read_csv(path_santander+file_santander)\n",
        "santander_df[\"table_name\"] = 'Balance General Pasivos'\n",
        "santander_df=santander_df[[\"trimester_date\",\"bank_name\",\"table_name\",\"short_description\",\n",
        "                                   \"T_0_feature_value\",\"T_1_feature_value\",\"T_2_feature_value\",\"T_3_feature_value\",\"T_4_feature_value\"]]\n",
        "bbva_df = pd.read_csv(path_bbva+file_bbva)\n",
        "bbva_df = bbva_df.iloc[: , 1:]\n",
        "rows,cols = bbva_df.shape\n",
        "tabla=[{'trimester_date': \"2021T2\",\n",
        " 'bank_name': 'BBVA',\n",
        " 'table_name': 'Balance General Pasivos',\n",
        " 'short_descripction': bbva_df.iloc[row,0],\n",
        " 'T_0_feature_value': bbva_df.iloc[row,1] ,\n",
        " 'T_1_feature_value': bbva_df.iloc[row,2] ,\n",
        " 'T_2_feature_value': bbva_df.iloc[row,3] ,\n",
        " 'T_3_feature_value': bbva_df.iloc[row,4],\n",
        " 'T_4_feature_value': bbva_df.iloc[row,5]} for row in range(rows)] \n",
        "bbva_df = pd.DataFrame.from_records(tabla)\n",
        "bbva_df.columns=[\"trimester_date\",\"bank_name\",\"table_name\",\"short_description\",\n",
        "                                   \"T_0_feature_value\",\"T_1_feature_value\",\"T_2_feature_value\",\"T_3_feature_value\",\"T_4_feature_value\"]\n",
        "banorte_df = pd.read_csv(path_banorte+file_banorte)\n",
        "banorte_df.columns=[\"trimester_date\",\"bank_name\",\"table_name\",\"short_description\",\n",
        "                                   \"T_0_feature_value\",\"T_1_feature_value\",\"T_2_feature_value\",\"T_3_feature_value\",\"T_4_feature_value\"]\n",
        "#\n",
        "banorte_df = banorte_df.loc[~((banorte_df[\"short_description\"]==\"Derivados\") &\n",
        "                     (banorte_df[\"T_0_feature_value\"]==\"0\") )\n",
        "                      ]\n",
        "\n",
        "#deleting unnecesary files of bbva\n",
        "bbva_df = bbva_df.loc[(bbva_df[\"T_0_feature_value\"]!=\"Jun\") &\n",
        "                     (bbva_df[\"T_0_feature_value\"]!=\"2020\") & \n",
        "                      (bbva_df[\"T_0_feature_value\"]!=\"1047863\")  \n",
        "                      ]\n",
        "\n",
        "dic_santander = {\"Prestamos bancarios y de otros organismos\": \"PRESTAMOS INTERBANCARIOS Y DE OTROS ORGANISMOS\",\n",
        "                 \"Total de Colaterales vendidos o dados en\":\"COLATERALES VENDIDOS O DADOS EN GARANTIA\"}\n",
        "dic_banorte = {\"Préstam os de Bancos y  otros\":\"PRESTAMOS INTERBANCARIOS Y DE OTROS ORGANISMOS\",\n",
        "               \"Otras cuentas por  pagar\": \"Otras cuentas por pagar\",\n",
        "               \"Total de Colaterales vendidos o dados en\":\"COLATERALES VENDIDOS O DADOS EN GARANTIA\",\n",
        "               \"TOTAL PASIVOS\":\"Total pasivo\",\n",
        "               \"TOTAL PASIVOS Y CAPITAL\":\"TOTAL PASIVO Y CAPITAL CONTABLE\"}\n",
        "\n",
        "result_state_important_variables = [\"prestamos interbancarios y de otros organismos\",\n",
        "                                    \"colaterales vendidos o dados en garantia\",\n",
        "                                    \"derivados\",\n",
        "                                    \"otras cuentas por pagar\",\n",
        "                                    \"total pasivo\",\n",
        "                                    \"capital contribuido\",\n",
        "                                    \"capital ganado\",\n",
        "                                    \"total capital contable\",\n",
        "                                    \"total pasivo y capital contable\"]\n",
        "                                    \n",
        "\n",
        "#renaming and creating one more file in santander\n",
        "banorte_df = banorte_df.replace({\"short_description\": dic_banorte})\n",
        "santander_df = santander_df.replace({\"short_description\": dic_santander})\n",
        "\n",
        "#deleting unnesary parenthesis\n",
        "columnas = banorte_df.columns\n",
        "for columna in columnas:\n",
        "      banorte_df[columna] = banorte_df[columna].str.replace(\"(\",\"-\") \n",
        "      banorte_df[columna] = banorte_df[columna].str.replace(\")\",\"\")\n",
        "      banorte_df[columna] = banorte_df[columna].str.replace(\",\",\"\")\n",
        "      bbva_df[columna] = bbva_df[columna].str.replace(\"(\",\"-\") \n",
        "      bbva_df[columna] = bbva_df[columna].str.replace(\")\",\"\")\n",
        "      bbva_df[columna] = bbva_df[columna].str.replace(\",\",\"\")\n",
        "\n",
        "#concat\n",
        "result_pasive = pd.concat([bbva_df,banorte_df,santander_df])\n",
        "\n",
        "#to float\n",
        "result_pasive[\"T_0_feature_value\"] = result_pasive[\"T_0_feature_value\"].astype(float)\n",
        "result_pasive[\"T_1_feature_value\"] = result_pasive[\"T_1_feature_value\"].astype(float)\n",
        "result_pasive[\"T_2_feature_value\"] = result_pasive[\"T_2_feature_value\"].astype(float)\n",
        "result_pasive[\"T_3_feature_value\"] = result_pasive[\"T_3_feature_value\"].astype(float)\n",
        "result_pasive[\"T_4_feature_value\"] = result_pasive[\"T_4_feature_value\"].astype(float)\n",
        "\n",
        "#new vars \n",
        "result_pasive[\"T_5_feature_value\"] = 0\n",
        "result_pasive[\"T_6_feature_value\"] = 0\n",
        "\n",
        "# cleaning short descrption\n",
        "result_pasive[\"short_description\"] = result_pasive[\"short_description\"].apply(lambda x: str_lower_rm_punctuation_rm_accents(str(x)))"
      ],
      "execution_count": null,
      "outputs": []
    },
    {
      "cell_type": "code",
      "metadata": {
        "id": "m8MMoRWh9gHz"
      },
      "source": [
        "# folder location\n",
        "path  = \"/content/drive/MyDrive/hackatonBBVA2021/csv/\"\n",
        "\n",
        "path_bbva  = path+\"BBVA/\"\n",
        "path_banorte  = path+\"Banorte/\"\n",
        "path_santander  = path+\"Santander/\"\n",
        "\n",
        "file_bbva = \"BBVA_21T2_activo_pivot.csv\"\n",
        "file_banorte = \"balancegral_activos_banorte.csv\"\n",
        "file_santander = \"balance_general_activo_santander.csv\"\n",
        "\n",
        "bbvadf = path_bbva+file_bbva\n",
        "banortedf = path_banorte+file_banorte\n",
        "santanderdf = path_santander+file_santander\n",
        "# read csvs\n",
        "df_bbva = pd.read_csv(bbvadf)\n",
        "df_bbva = df_bbva[2:]\n",
        "df_bbva.reset_index(drop=True, inplace=True)\n",
        "df_banorte = pd.read_csv(banortedf)\n",
        "df_santander = pd.read_csv(santanderdf)\n",
        "\n",
        "important_variables = ['Inversiones en Valores', 'Total Cartera de Credito Vigente', 'Total Cartera de Credito Vencida',\n",
        "                       'Total Cartera de Credito', 'Total de Cartera de Credito (Neto)', 'Total Activo']\n",
        "\n",
        "col_names = ['trimester_date', 'bank_name', 'table_name', 'short_description', 'T_0_feature_value', \n",
        "             'T_1_feature_value', 'T_2_feature_value', 'T_3_feature_value','T_4_feature_value']\n",
        "\n",
        "# change col names and  reorder\n",
        "df_bbva.columns = col_names\n",
        "df_banorte.columns = col_names\n",
        "df_santander = df_santander.reindex(columns=col_names)\n",
        "\n",
        "#deleting unnesary parenthesis\n",
        "columnas = banorte_df.columns\n",
        "for columna in columnas:\n",
        "      df_banorte[columna] = df_banorte[columna].str.replace(\"(\",\"-\") \n",
        "      df_banorte[columna] = df_banorte[columna].str.replace(\")\",\"\")\n",
        "      df_banorte[columna] = df_banorte[columna].str.replace(\",\",\"\")\n",
        "      df_bbva[columna] = df_bbva[columna].str.replace(\"(\",\"-\") \n",
        "      df_bbva[columna] = df_bbva[columna].str.replace(\")\",\"\")\n",
        "      df_bbva[columna] = df_bbva[columna].str.replace(\",\",\"\")\n",
        "\n",
        "# cleaning short descrption\n",
        "df_bbva[\"short_description\"] = df_bbva[\"short_description\"].apply(lambda x: str_lower_rm_punctuation_rm_accents(str(x)))\n",
        "df_banorte[\"short_description\"] = df_banorte[\"short_description\"].apply(lambda x: str_lower_rm_punctuation_rm_accents(str(x)))\n",
        "df_santander[\"short_description\"] = df_santander[\"short_description\"].apply(lambda x: str_lower_rm_punctuation_rm_accents(str(x)))\n",
        "\n",
        "# renaming important variables\n",
        "df_bbva.iloc[2,3],  df_banorte.iloc[5,3],  df_santander.iloc[2,3]  = important_variables[0], important_variables[0], important_variables[0]\n",
        "df_bbva.iloc[11,3], df_banorte.iloc[24,3], df_santander.iloc[20,3] = important_variables[1], important_variables[1], important_variables[1]\n",
        "df_bbva.iloc[20,3], df_banorte.iloc[34,3], df_santander.iloc[29,3] = important_variables[2], important_variables[2], important_variables[2]\n",
        "df_bbva.iloc[28,3], df_banorte.iloc[35,3], df_santander.iloc[30,3] = important_variables[3], important_variables[3], important_variables[3]\n",
        "df_bbva.iloc[30,3], df_banorte.iloc[39,3], df_santander.iloc[32,3] = important_variables[4], important_variables[4], important_variables[4]\n",
        "df_bbva.iloc[41,3], df_banorte.iloc[54,3], df_santander.iloc[41,3] = important_variables[5], important_variables[5], important_variables[5]\n",
        "df_banorte['table_name'] = 'Balance General Activo'\n",
        "\n",
        "result_active = pd.concat([df_bbva,df_banorte,df_santander])\n",
        "\n",
        "#to float\n",
        "result_active[\"T_0_feature_value\"] = result_active[\"T_0_feature_value\"].astype(float)\n",
        "result_active[\"T_1_feature_value\"] = result_active[\"T_1_feature_value\"].astype(float)\n",
        "result_active[\"T_2_feature_value\"] = result_active[\"T_2_feature_value\"].astype(float)\n",
        "result_active[\"T_3_feature_value\"] = result_active[\"T_3_feature_value\"].astype(float)\n",
        "result_active[\"T_4_feature_value\"] = result_active[\"T_4_feature_value\"].astype(float)\n",
        "\n",
        "#new vars \n",
        "result_active[\"T_5_feature_value\"] = 0\n",
        "result_active[\"T_6_feature_value\"] = 0\n",
        "\n"
      ],
      "execution_count": null,
      "outputs": []
    },
    {
      "cell_type": "code",
      "metadata": {
        "id": "v7Luw8Jbv_Me"
      },
      "source": [
        "#concat\n",
        "result_total = pd.concat([result_state,result_pasive,result_active])"
      ],
      "execution_count": null,
      "outputs": []
    },
    {
      "cell_type": "code",
      "metadata": {
        "colab": {
          "base_uri": "https://localhost:8080/",
          "height": 213
        },
        "id": "yMyiwNRkyfJ1",
        "outputId": "e39ba2fd-b6c2-4ec2-88ed-3ee08392a4c0"
      },
      "source": [
        "result_total.loc[result_total[\"short_description\"]==\"margen financiero\"]"
      ],
      "execution_count": null,
      "outputs": [
        {
          "output_type": "execute_result",
          "data": {
            "text/html": [
              "<div>\n",
              "<style scoped>\n",
              "    .dataframe tbody tr th:only-of-type {\n",
              "        vertical-align: middle;\n",
              "    }\n",
              "\n",
              "    .dataframe tbody tr th {\n",
              "        vertical-align: top;\n",
              "    }\n",
              "\n",
              "    .dataframe thead th {\n",
              "        text-align: right;\n",
              "    }\n",
              "</style>\n",
              "<table border=\"1\" class=\"dataframe\">\n",
              "  <thead>\n",
              "    <tr style=\"text-align: right;\">\n",
              "      <th></th>\n",
              "      <th>trimester_date</th>\n",
              "      <th>bank_name</th>\n",
              "      <th>table_name</th>\n",
              "      <th>short_description</th>\n",
              "      <th>T_0_feature_value</th>\n",
              "      <th>T_1_feature_value</th>\n",
              "      <th>T_2_feature_value</th>\n",
              "      <th>T_3_feature_value</th>\n",
              "      <th>T_4_feature_value</th>\n",
              "      <th>T_5_feature_value</th>\n",
              "      <th>T_6_feature_value</th>\n",
              "    </tr>\n",
              "  </thead>\n",
              "  <tbody>\n",
              "    <tr>\n",
              "      <th>7</th>\n",
              "      <td>2021T2</td>\n",
              "      <td>BBVA</td>\n",
              "      <td>Estado de resultados</td>\n",
              "      <td>margen financiero</td>\n",
              "      <td>34409.0</td>\n",
              "      <td>34759.0</td>\n",
              "      <td>35914.0</td>\n",
              "      <td>34045.0</td>\n",
              "      <td>29089.0</td>\n",
              "      <td>0</td>\n",
              "      <td>0</td>\n",
              "    </tr>\n",
              "    <tr>\n",
              "      <th>8</th>\n",
              "      <td>2021T2</td>\n",
              "      <td>Banorte</td>\n",
              "      <td>Estado de resultados</td>\n",
              "      <td>margen financiero</td>\n",
              "      <td>19649.0</td>\n",
              "      <td>20002.0</td>\n",
              "      <td>19580.0</td>\n",
              "      <td>20601.0</td>\n",
              "      <td>20683.0</td>\n",
              "      <td>0</td>\n",
              "      <td>0</td>\n",
              "    </tr>\n",
              "    <tr>\n",
              "      <th>0</th>\n",
              "      <td>2021T2</td>\n",
              "      <td>Santander</td>\n",
              "      <td>Estado de resultados</td>\n",
              "      <td>margen financiero</td>\n",
              "      <td>15585.0</td>\n",
              "      <td>16272.0</td>\n",
              "      <td>16896.0</td>\n",
              "      <td>15585.0</td>\n",
              "      <td>16896.0</td>\n",
              "      <td>0</td>\n",
              "      <td>0</td>\n",
              "    </tr>\n",
              "  </tbody>\n",
              "</table>\n",
              "</div>"
            ],
            "text/plain": [
              "  trimester_date  bank_name  ... T_5_feature_value T_6_feature_value\n",
              "7         2021T2       BBVA  ...                 0                 0\n",
              "8         2021T2    Banorte  ...                 0                 0\n",
              "0         2021T2  Santander  ...                 0                 0\n",
              "\n",
              "[3 rows x 11 columns]"
            ]
          },
          "metadata": {},
          "execution_count": 11
        }
      ]
    },
    {
      "cell_type": "code",
      "metadata": {
        "colab": {
          "base_uri": "https://localhost:8080/",
          "height": 264
        },
        "id": "woHTKg6LMB4I",
        "outputId": "7479b892-b8eb-4d79-fe0c-4421ab257f3c"
      },
      "source": [
        "result_total.loc[result_total[\"short_description\"]==\"total pasivo y capital contable\"]"
      ],
      "execution_count": null,
      "outputs": [
        {
          "output_type": "execute_result",
          "data": {
            "text/html": [
              "<div>\n",
              "<style scoped>\n",
              "    .dataframe tbody tr th:only-of-type {\n",
              "        vertical-align: middle;\n",
              "    }\n",
              "\n",
              "    .dataframe tbody tr th {\n",
              "        vertical-align: top;\n",
              "    }\n",
              "\n",
              "    .dataframe thead th {\n",
              "        text-align: right;\n",
              "    }\n",
              "</style>\n",
              "<table border=\"1\" class=\"dataframe\">\n",
              "  <thead>\n",
              "    <tr style=\"text-align: right;\">\n",
              "      <th></th>\n",
              "      <th>trimester_date</th>\n",
              "      <th>bank_name</th>\n",
              "      <th>table_name</th>\n",
              "      <th>short_description</th>\n",
              "      <th>T_0_feature_value</th>\n",
              "      <th>T_1_feature_value</th>\n",
              "      <th>T_2_feature_value</th>\n",
              "      <th>T_3_feature_value</th>\n",
              "      <th>T_4_feature_value</th>\n",
              "      <th>T_5_feature_value</th>\n",
              "      <th>T_6_feature_value</th>\n",
              "    </tr>\n",
              "  </thead>\n",
              "  <tbody>\n",
              "    <tr>\n",
              "      <th>48</th>\n",
              "      <td>2021T2</td>\n",
              "      <td>BBVA</td>\n",
              "      <td>Balance General Pasivos</td>\n",
              "      <td>total pasivo y capital contable</td>\n",
              "      <td>2708462.0</td>\n",
              "      <td>2709335.0</td>\n",
              "      <td>2704552.0</td>\n",
              "      <td>2688394.0</td>\n",
              "      <td>2779781.0</td>\n",
              "      <td>0</td>\n",
              "      <td>0</td>\n",
              "    </tr>\n",
              "    <tr>\n",
              "      <th>57</th>\n",
              "      <td>2021T2</td>\n",
              "      <td>Banorte</td>\n",
              "      <td>Balance General Pasivos</td>\n",
              "      <td>total pasivo y capital contable</td>\n",
              "      <td>1802363.0</td>\n",
              "      <td>1810207.0</td>\n",
              "      <td>1787904.0</td>\n",
              "      <td>1795306.0</td>\n",
              "      <td>1783581.0</td>\n",
              "      <td>0</td>\n",
              "      <td>0</td>\n",
              "    </tr>\n",
              "    <tr>\n",
              "      <th>40</th>\n",
              "      <td>2021T2</td>\n",
              "      <td>Santander</td>\n",
              "      <td>Balance General Pasivos</td>\n",
              "      <td>total pasivo y capital contable</td>\n",
              "      <td>1634384.0</td>\n",
              "      <td>1748298.0</td>\n",
              "      <td>1856213.0</td>\n",
              "      <td>1858684.0</td>\n",
              "      <td>1929350.0</td>\n",
              "      <td>0</td>\n",
              "      <td>0</td>\n",
              "    </tr>\n",
              "  </tbody>\n",
              "</table>\n",
              "</div>"
            ],
            "text/plain": [
              "   trimester_date  bank_name  ... T_5_feature_value T_6_feature_value\n",
              "48         2021T2       BBVA  ...                 0                 0\n",
              "57         2021T2    Banorte  ...                 0                 0\n",
              "40         2021T2  Santander  ...                 0                 0\n",
              "\n",
              "[3 rows x 11 columns]"
            ]
          },
          "metadata": {},
          "execution_count": 33
        }
      ]
    },
    {
      "cell_type": "code",
      "metadata": {
        "id": "yB1ig6KWO2Cg"
      },
      "source": [
        "variables = ['Inversiones en Valores', 'Total Cartera de Credito Vigente', 'Total Cartera de Credito Vencida',\n",
        "                       'Total Cartera de Credito', 'Total de Cartera de Credito (Neto)', 'Total Activo',\n",
        "             \"resultado neto\",\"margen financiero\",\"margen financiero ajustado por riesgos crediticios\",\n",
        "                                    \"resultado de la operacion\",\"resultado antes de impuestos a la utilidad\",\n",
        "                                    \"resultado antes de operaciones discontinuadas\",\"resultado neto\",\n",
        "             \"prestamos interbancarios y de otros organismos\",\n",
        "                                    \"colaterales vendidos o dados en garantia\",\n",
        "                                    \"derivados\",\n",
        "                                    \"otras cuentas por pagar\",\n",
        "                                    \"total pasivo\",\n",
        "                                    \"capital contribuido\",\n",
        "                                    \"capital ganado\",\n",
        "                                    \"total capital contable\",\n",
        "                                    \"total pasivo y capital contable\"]"
      ],
      "execution_count": null,
      "outputs": []
    },
    {
      "cell_type": "code",
      "metadata": {
        "id": "dFVwOhn0xd9L"
      },
      "source": [
        "result_total.to_csv(path+\"general_result_state.csv\", index = False)"
      ],
      "execution_count": null,
      "outputs": []
    },
    {
      "cell_type": "code",
      "metadata": {
        "id": "X6tv5p8LREWT"
      },
      "source": [
        "archivo = \"general_result_state.csv\""
      ],
      "execution_count": null,
      "outputs": []
    },
    {
      "cell_type": "code",
      "metadata": {
        "colab": {
          "base_uri": "https://localhost:8080/"
        },
        "id": "ttzRM-CtydIs",
        "outputId": "50cf4a75-c64f-47f9-f143-4beef5915e97"
      },
      "source": [
        "client_s3 = boto3.client(\n",
        "                         's3',\n",
        "                         aws_access_key_id = access_key,\n",
        "                         aws_secret_access_key = secret_key,\n",
        "                        )\n",
        "\n",
        "#for file in os.listdir(path):\n",
        "try:\n",
        "    print(\"Subiendo archivo: \", archivo)\n",
        "    client_s3.upload_file(\n",
        "                           path + archivo,\n",
        "                           bucket_name,\n",
        "                           \"calamar_\" + archivo\n",
        "      \n",
        "                         )\n",
        "    print(\"Archivo subido con éxito.\")\n",
        "#except ClientError as e:\n",
        "#     print(\"Invalid credentials.\")\n",
        "#     print(e)\n",
        "except Exception as e:\n",
        "     print(\"Error.\")\n",
        "     print(e)"
      ],
      "execution_count": null,
      "outputs": [
        {
          "output_type": "stream",
          "name": "stdout",
          "text": [
            "Subiendo archivo:  general_result_state.csv\n",
            "Archivo subido con éxito.\n"
          ]
        }
      ]
    },
    {
      "cell_type": "code",
      "metadata": {
        "id": "asZITgrbywLt"
      },
      "source": [
        ""
      ],
      "execution_count": null,
      "outputs": []
    }
  ]
}